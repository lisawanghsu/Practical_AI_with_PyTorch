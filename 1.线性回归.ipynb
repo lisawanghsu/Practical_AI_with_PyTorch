{
 "cells": [
  {
   "cell_type": "markdown",
   "id": "81521b30",
   "metadata": {},
   "source": [
    "## 1.线性回归（1855年）\n",
    "\n",
    "**学习目标**\n",
    "\n",
    "1. 熟练使用Pandas处理CSV格式的数据\n",
    "   \n",
    "2. 熟练使用matplotlib绘制散点图\n",
    "   \n",
    "3. 掌握线性回归算法和模型构建方法\n",
    "\n",
    "4. 熟悉最小二乘法和随机梯度下降\n",
    "   \n",
    "5. 熟练使用均方误差（MSE）损失函数\n",
    "\n",
    "****"
   ]
  },
  {
   "cell_type": "markdown",
   "id": "892164e2",
   "metadata": {},
   "source": [
    "线性回归最早是由英国发明家、人类学家、探险家、地理学家、气象学家、心理学家、遗传学家和统计学家弗朗西斯·高尔顿（Francis Galton）爵士提出的。\n",
    "\n",
    "### 1.1  弗朗西斯·高尔顿\n",
    "\n",
    "高尔顿于1822年2月16日出生于英国伯明翰一个富有的银行家家庭，他是著名博物学家查尔斯·达尔文（Charles Darwin）的表弟。高尔顿和达尔文的祖父伊拉斯谟·达尔文也是一位著名的博物学家和哲学家。1840年高尔顿进入剑桥大学学习，但从未获得过学位。高尔顿在他富有的父亲去世后继承了一笔丰厚的遗产，因此可以自由的过着想要的生活，包括冒险。1850年，他先后远赴马耳他、埃及尼罗河流域和南非，还曾只身进入巴勒斯坦腹地，这使他成为一位大无畏的知名探险家，他在非洲未开发地区的探险为他赢得了法国地理学会的银质奖章。1853年被选为皇家地理学会会员，1856年又被选为皇家学会会员，时年34岁。1857年，他从非洲回来后与妻子定居在伦敦的庄园，正式开始了他的书斋式的科研生活。高尔顿痴迷于测量，他对测量方法的大量使用使他发现并确立了指纹识别可以作为一种可靠的身份识别方法。在收集了数百个指纹样本后，高尔顿创建了一个分类系统，该系统至今仍被21世纪的法医和科学家广泛使用。\n",
    "\n",
    "高尔顿平生著作，据皮尔逊不完全统计，著书15种，撰写各种学术论文220篇，涉猎范围包括地理、天文、气象、物理、机械、人类学、民族学、社会学、统计学、教育学、医学、生理学、心理学、遗传学、优生学、指纹学、照像术、登山术、音乐、美术、宗教等，是一位百科全书式的学者。\n",
    "\n",
    "1909年，高尔顿被封为爵士，1911年1月17日，高尔顿病逝于英格兰南部哈斯里梅尔，享年89岁。在人类历史上，很少有像高尔顿那样特立独行、知识渊博而又毁誉参半的科学家。高尔顿被同时代的人赋予了很多称号：“维多利亚时代最博学之人”、“人类追求自身完美这一崇高目标的化身”以及“种族主义者和法西斯精神领袖”。\n",
    "\n",
    "<img src=\"./images/Sir Galton.png\" style=\"zoom:60%;\" />\n",
    "\n",
    "#### 1.高尔顿的遗传学研究\n",
    "\n",
    "​1859年，达尔文的《物种起源》问世，高尔顿怀着极大的兴趣和热情阅读了这本书。这本书激发了他内心深处的复杂情感，既有对表哥成就的钦佩，也有对自己学术追求的自豪，或许还夹杂着一丝嫉妒。在一封充满热情的信件中，高尔顿向达尔文表达了自己的感受，称这本书为他打开了\"一个全新知识领域的大门\"。受到达尔文《物种起源》的深刻影响，高尔顿在19世纪60年代中期开始了他对遗传学的研究。他的研究重点由之前的数据测量转向探索遗传的内在机制。\n",
    "\n",
    "​为了充实他的研究，高尔顿着手对历史上的名人家谱进行了深入的整理和分析。在对1453年至1853年间的605位杰出人物进行研究时，他发现其中有102位存在血缘关系，这表明在这些成功人士中，大约每六人中就有一人与其他成功人士有亲属关系。基于这一发现，高尔顿推测，如果一个杰出人物有了孩子，那么这个孩子成为杰出人物的概率大约是1/12，而这一概率在普通人群中则降至1/3000。高尔顿坚信遗传在决定个人成就中作用。他认为，贵族之所以能够世代传承，其根本原因在于智力而非社会地位。他认为个人的天赋和成功的潜力是由遗传因素决定的，并且这些天赋应当是遗传的一部分。\n",
    "\n",
    "#### 2.优生学\n",
    "\n",
    "​1883年，高尔顿出版了一本著作叫《人类才能及其发展的研究》。在这部颇有争议的书中，他为优化人种制订了一个战略计划。高尔顿的想法非常简单：他打算模仿自然选择的机制。既然自然界可以通过生存和选择来对动物种群产生显著影响，那么高尔顿设想通过人工干预也可以加速人类进步的过程。他将自己宏大的战略构想起了个名字——“优生学”，即优化种族的科学。\n",
    "\n",
    "​高尔顿的优生学理论后来得到了继承和发展。其中，卡尔·皮尔逊（Karl Pearson）和罗纳德·费希尔（Ronald Fisher）是这一领域的代表人物。他们不仅继承了高尔顿的思想，还在统计学和遗传学领域做出了重要贡献，为优生学理论提供了更为坚实的基础。\n",
    "\n",
    "然而，高尔顿及其追随者的优生学理论也包含了一些种族主义的言论：\n",
    "\n",
    "- 高尔顿：“黑人种族的平均智力标准比我们低两个等级。”\n",
    "\n",
    "- 皮尔逊：“历史向我展现了一种方式，也只有这种方式，能够造就高级文明，就是种族之间的斗争，生理和心理都更优越的种族才会生存下来。”\n",
    "\n",
    "- 费希尔：“社会更低阶层的过高生育率会拖垮任何文明。”\n",
    "\n",
    "这些言论在当时的社会背景下可能被视为科学的观点，但今天看来，它们显然带有明显的种族歧视色彩。\n",
    "\n",
    "#### 3. 罪恶之花\n",
    "\n",
    "​优生学的目标是让优质的种族或血统得以延续，并且以较大的优势快速压制劣质的种族或血统。为了实现这个理想，高尔顿建议要选择性繁育身强体壮的后代。1904年春天，高尔顿在伦敦经济学院的一场公开演讲中向世人传播了他的优生学。在这之后，优生学成为人人追捧的新兴学科。\n",
    "\n",
    "​1912年，第一届国际优生学大会在伦敦塞西尔酒店开幕。在大会发言中，德国学者阿尔弗雷德·普洛兹用狂热且精准的语言展示了“种族优生”理论，并充满激情地宣布，德国正在启动种族清洗计划，这对于即将到来的黑暗年代是个不祥的预兆。在另一个报告中，美国优生运动之父达文波特的门生在会议上踌躇满志地讲述着美国国内为清除“缺陷品种”而展开的努力工作。例如，为不适合繁育后代的人群设立隔离中心的工作已经在计划实施。\n",
    "​\n",
    "从此，人类历史上开始了一段血雨腥风的优生运动。20世纪40年代，纳粹德国为了实现上述目标已经达到疯狂的极限，他们利用某些残忍的人体实验来验证优生学理论，其中包括绝育和灭绝人性的屠杀。高尔顿创造的优生学成为了纳粹手中的杀人工具，吞噬了数百万人的性命。\n",
    "\n",
    "​虽然高尔顿的初衷可能是希望创造一个更加优秀的社会，但他的理论被极端化并用于不人道的目的。这段历史提醒我们，科学理念必须谨慎对待，避免被滥用以造成灾难性的后果。现代社会强调人权、平等和尊重生命，反对任何形式的种族歧视和优生学实践。我们必须从历史中吸取教训，确保科学发展服务于人类的福祉，而不是成为伤害人类的工具。"
   ]
  },
  {
   "cell_type": "markdown",
   "id": "0a56fcd3",
   "metadata": {},
   "source": [
    "### 1.2 线性回归"
   ]
  },
  {
   "cell_type": "markdown",
   "id": "19417919",
   "metadata": {},
   "source": [
    "#### 1. 什么是线性回归？\n",
    "\n",
    "​\t1855年， 高尔顿发表《遗传的身高向平均数方向的回归》一文，高尔顿和他的学生卡尔·皮尔逊（Karl Pearson）收集了1078对夫妇及其子女的身高数据。\n",
    "\n",
    "<img src=\"./images/galton1.png\" style=\"zoom:60%;\" />\n",
    "\n",
    "通过分析这些数据，他们发现父母身高和子女身高之间存在线性关系。如果用x表示父母的平均身高，用y表示子女的平均身高，那么可以用一条直线表示：\n",
    "\n",
    "y = 0.516*x + 0.8567 (单位：米)\n",
    "\n",
    "那么，什么时候父母的平均身高和子女是相同的呢？\n",
    "答案是x = 0.516*x + 0.8567,计算得 x = 1.77。\n",
    "\n",
    "现在我们可以根据公式计算得到 x = 1.80, y = 1.786；x = 1.70, y = 1.73.\n",
    "\n",
    "这就是高尔顿发现的有趣现象：如果父母的身高偏离平均身高，那么他们的子女的身高往往会向平均身高“回归”。换句话说，当父母身高走向极端，子女的身高不会象父母身高那样极端化，其身高要比父母们的身高更接近平均身高，即有“回归”到平均数去的趋势，这就是“回归”最初的统计学涵义，高尔顿把这一现象叫做“向平均数方向的回归”（regression toward mediocrity），这是首次使用“回归”一词来描述这种趋势。\n",
    "\n",
    "​\t线性回归是一种基础的统计学工具，它用于预测和分析数据之间的关系。线性回归的目标是探索一个或多个自变量与一个因变量之间的线性关系。这种关系通常是一条直线，可以用公式 y = w*x + b 来表示，其斜率w和截距b是模型参数。\n",
    "\n",
    "对于上面例子中父母和子女身高的线性关系，我们可以绘制出图像：\n",
    "\n",
    "<img src=\"./images/linear1.jpg\" style=\"zoom:80%;\" />\n",
    "\n",
    "现在我们有个疑问，参数w = 0.516, b = 0.8567，是如何确定出来的？答案是最小二乘法。\n",
    "\n",
    "#### 2. 线性回归的优化方法——最小二乘法\n",
    "\n",
    "​\t衡量线性回归模型预测值与实际观测值之间差异的指标，可以通过计算所有观测值误差的平方和来实现，这就是均方误差（Mean Squared Error，MSE）。\n",
    "\n",
    "​\t最小二乘法是线性回归中常用的参数估计方法。其基本思想是通过最小化MSE来找到最佳拟合线。这种方法的优势在于它提供了一个明确且易于计算的最优解。\n",
    "\n",
    "​\t最小二乘法公式：\n",
    "\n",
    "$$\n",
    "w = \\frac{n \\sum(xy) - \\sum(x) \\sum(y)}{n \\sum(x^2) - (\\sum(x))^2}\n",
    "$$\n",
    "\n",
    "$$\n",
    "b = \\frac{\\sum(y) - a \\sum(x)}{n}\n",
    "$$\n",
    "\n",
    "假设有5个观测值(x,y)，如下表所示：\n",
    "\n",
    "| x   |   y   |\n",
    "| --- | ----- |\n",
    "| 1   | 2.2   |\n",
    "| 2   | 3.8   |\n",
    "| 3   | 4.5   |\n",
    "| 4   | 5.9   |\n",
    "| 5   | 6.7   |\n",
    "\n",
    "我们可以编程实现最小二乘法，求解出参数w和b。"
   ]
  },
  {
   "cell_type": "code",
   "execution_count": 9,
   "id": "f0bee103",
   "metadata": {},
   "outputs": [
    {
     "name": "stdout",
     "output_type": "stream",
     "text": [
      " w = 1.11000\n",
      " b = 1.29000\n"
     ]
    }
   ],
   "source": [
    "# 最小二乘法求线性回归系数\n",
    "import numpy as np\n",
    "\n",
    "# 样本数据\n",
    "x = np.array([1, 2, 3, 4, 5])\n",
    "y = np.array([2.2, 3.8, 4.5, 5.9, 6.7])\n",
    "\n",
    "# 计算参数w和b\n",
    "n = len(x)\n",
    "w = (n * np.sum(x * y) - np.sum(x) * np.sum(y)) / (n * np.sum(x**2) - np.sum(x)**2)\n",
    "b = (np.sum(y) - w * np.sum(x)) / n\n",
    "\n",
    "print(f\" w = {w:.5f}\")\n",
    "print(f\" b = {b:.5f}\")"
   ]
  },
  {
   "cell_type": "markdown",
   "id": "5fa59ec6",
   "metadata": {},
   "source": [
    "#### 3. 线性回归的优化方法——随机梯度下降（SGD）\n",
    "\n",
    "在实践中，线性回归的优化可以通过不同的算法来实现。但是，在机器学习领域，尤其是在处理大规模数据集时，随机梯度下降因其在收敛速度上的优势而被广泛采用。SGD通过迭代地调整模型参数来最小化损失函数，这里的损失函数可以是均方误差（MSE）或其他。下面我们就来看一个随机梯度下降优化MSE的例子。"
   ]
  },
  {
   "cell_type": "markdown",
   "id": "53e28aec",
   "metadata": {},
   "source": [
    "### 1.3 线性回归的应用——草莓含糖量无损检测"
   ]
  },
  {
   "cell_type": "markdown",
   "id": "92ffa8fb",
   "metadata": {},
   "source": [
    "草莓果肉多汁，营养价值高，生长周期短，见效快，经济效益高，正成为我国果树业和设施农业中发展最快的新兴产业，种植面积逐年增加。目前，我国已拥有草莓播种面积126.13千公顷，产量322.19万吨，是全球最大的草莓生产与消费国。\n",
    "\n",
    "<img src=\"./images/strawberry.jpg\" style=\"zoom:80%;\" />\n",
    "\n",
    "草莓是重要的经济作物，它的售价和草莓的品质密切相关，含糖量是判断草莓质量的一个重要指标。想要知道一颗草莓的含糖量，可以使用水果糖度仪来测量草莓含糖量。但是，水果糖度仪在测量草莓含糖量时会对草莓造成损坏。对于售卖的草莓来说，将其全部破坏来测量含糖量是不切实际的。\n",
    "\n",
    "科学研究表明，草莓的含糖量将会影响到其对红外线的吸收量，可以通过测量草莓对红外光谱吸收值来估算它的含糖量，做到对草莓含糖量的无损检测。\n",
    "\n",
    "下面我们来学习如何使用线性回归实现草莓含糖量的无损检测。"
   ]
  },
  {
   "cell_type": "markdown",
   "id": "27ac2469",
   "metadata": {},
   "source": [
    "1.相关依赖包或模块"
   ]
  },
  {
   "cell_type": "code",
   "execution_count": 53,
   "id": "8c67d691",
   "metadata": {},
   "outputs": [],
   "source": [
    "import pandas as pd\n",
    "import numpy as np\n",
    "import matplotlib.pyplot as plt\n",
    "import torch\n",
    "from torch import nn\n",
    "from torch import optim"
   ]
  },
  {
   "cell_type": "markdown",
   "id": "1fd743ee",
   "metadata": {},
   "source": [
    "2.加载数据集"
   ]
  },
  {
   "cell_type": "code",
   "execution_count": 54,
   "id": "3a856cf6",
   "metadata": {},
   "outputs": [
    {
     "data": {
      "text/html": [
       "<div>\n",
       "<style scoped>\n",
       "    .dataframe tbody tr th:only-of-type {\n",
       "        vertical-align: middle;\n",
       "    }\n",
       "\n",
       "    .dataframe tbody tr th {\n",
       "        vertical-align: top;\n",
       "    }\n",
       "\n",
       "    .dataframe thead th {\n",
       "        text-align: right;\n",
       "    }\n",
       "</style>\n",
       "<table border=\"1\" class=\"dataframe\">\n",
       "  <thead>\n",
       "    <tr style=\"text-align: right;\">\n",
       "      <th></th>\n",
       "      <th>SSC</th>\n",
       "      <th>R</th>\n",
       "    </tr>\n",
       "  </thead>\n",
       "  <tbody>\n",
       "    <tr>\n",
       "      <th>0</th>\n",
       "      <td>7.0</td>\n",
       "      <td>0.807545</td>\n",
       "    </tr>\n",
       "    <tr>\n",
       "      <th>1</th>\n",
       "      <td>6.8</td>\n",
       "      <td>0.774170</td>\n",
       "    </tr>\n",
       "    <tr>\n",
       "      <th>2</th>\n",
       "      <td>6.3</td>\n",
       "      <td>0.751000</td>\n",
       "    </tr>\n",
       "    <tr>\n",
       "      <th>3</th>\n",
       "      <td>6.2</td>\n",
       "      <td>0.796043</td>\n",
       "    </tr>\n",
       "    <tr>\n",
       "      <th>4</th>\n",
       "      <td>5.5</td>\n",
       "      <td>0.653701</td>\n",
       "    </tr>\n",
       "  </tbody>\n",
       "</table>\n",
       "</div>"
      ],
      "text/plain": [
       "   SSC         R\n",
       "0  7.0  0.807545\n",
       "1  6.8  0.774170\n",
       "2  6.3  0.751000\n",
       "3  6.2  0.796043\n",
       "4  5.5  0.653701"
      ]
     },
     "execution_count": 54,
     "metadata": {},
     "output_type": "execute_result"
    }
   ],
   "source": [
    "df = pd.read_csv(\"./datasets/strawberry/strawberry_reg.csv\")\n",
    "df.head()"
   ]
  },
  {
   "cell_type": "code",
   "execution_count": 55,
   "id": "79ed3271",
   "metadata": {},
   "outputs": [
    {
     "name": "stdout",
     "output_type": "stream",
     "text": [
      "0      0.807545\n",
      "1      0.774170\n",
      "2      0.751000\n",
      "3      0.796043\n",
      "4      0.653701\n",
      "         ...   \n",
      "175    0.768821\n",
      "176    0.824843\n",
      "177    0.734260\n",
      "178    0.727337\n",
      "179    0.873563\n",
      "Name: R, Length: 180, dtype: float64 \n",
      " 0      7.0\n",
      "1      6.8\n",
      "2      6.3\n",
      "3      6.2\n",
      "4      5.5\n",
      "      ... \n",
      "175    6.6\n",
      "176    7.5\n",
      "177    6.7\n",
      "178    6.5\n",
      "179    7.2\n",
      "Name: SSC, Length: 180, dtype: float64\n"
     ]
    }
   ],
   "source": [
    "x_data, y_data =  df.R, df.SSC\n",
    "print(x_data,'\\n', y_data)"
   ]
  },
  {
   "cell_type": "markdown",
   "id": "2d761d8c",
   "metadata": {},
   "source": [
    "3.数据可视化"
   ]
  },
  {
   "cell_type": "markdown",
   "id": "0538bf2c",
   "metadata": {},
   "source": [
    "本次任务是找到草莓含糖量SSC和红外光谱吸收值R之间的关系。我们可以首先将其可视化出来:"
   ]
  },
  {
   "cell_type": "code",
   "execution_count": 56,
   "id": "97bfa64f",
   "metadata": {},
   "outputs": [
    {
     "data": {
      "image/png": "[encoded data removed]",
      "text/plain": [
       "<Figure size 600x400 with 1 Axes>"
      ]
     },
     "metadata": {},
     "output_type": "display_data"
    }
   ],
   "source": [
    "plt.rcParams['font.sans-serif'] = 'SimHei'\n",
    "\n",
    "plt.figure(figsize=(6, 4))\n",
    "plt.scatter(x_data, y_data,  color='pink', marker='*', label='草莓')\n",
    "plt.xlabel('红外光谱吸收值（R)')\n",
    "plt.ylabel('含糖量(SSC)')\n",
    "\n",
    "plt.legend()\n",
    "plt.show()"
   ]
  },
  {
   "cell_type": "markdown",
   "id": "9b7a779a",
   "metadata": {},
   "source": [
    "4.数据预处理\n",
    "\n",
    ".values 通常用于 pandas DataFrame 或 Series 对象，以获取其数据的原始值。当你对一个 pandas DataFrame 或 Series 使用 .values 属性时，它会返回一个 NumPy 数组，包含该 DataFrame 或 Series 的数据。这个数组的形状取决于 DataFrame 或 Series 的维度。\n",
    "\n",
    ".view(-1, 1) 用于改变张量的形状，将张量重塑为一个二维张量，其中每行只有一个元素。。-1 是一个特殊的参数，它告诉 PyTorch 自动计算这个维度的大小，以确保张量的总元素数量保持不变。"
   ]
  },
  {
   "cell_type": "code",
   "execution_count": 57,
   "id": "0b47d8eb",
   "metadata": {},
   "outputs": [
    {
     "name": "stdout",
     "output_type": "stream",
     "text": [
      "torch.Size([180, 1])\n",
      "torch.Size([180, 1])\n"
     ]
    }
   ],
   "source": [
    "# 数据转换 -> [样本，特征]\n",
    "X = torch.tensor(x_data.values, dtype=torch.float32).view(-1, 1)\n",
    "y = torch.tensor(y_data.values, dtype=torch.float32).view(-1, 1)\n",
    "\n",
    "print(X.shape)\n",
    "print(y.shape)"
   ]
  },
  {
   "cell_type": "markdown",
   "id": "a0918b57",
   "metadata": {},
   "source": [
    "5.模型构建"
   ]
  },
  {
   "cell_type": "markdown",
   "id": "53666c75",
   "metadata": {},
   "source": [
    "(1) 参数设置"
   ]
  },
  {
   "cell_type": "code",
   "execution_count": 58,
   "id": "8f602892",
   "metadata": {},
   "outputs": [],
   "source": [
    "num_epochs = 6000"
   ]
  },
  {
   "cell_type": "markdown",
   "id": "a7af6821",
   "metadata": {},
   "source": [
    "线性回归和神经元之间存在直接的联系，特别是在神经网络的上下文中。实际上，一个简单的线性回归模型可以被视为一个单层神经网络，其中只有一个神经元。（线性回归模型 + 阶跃函数 = 感知器（单个神经元））\n",
    "\n",
    "（2）构建线性回归模型"
   ]
  },
  {
   "cell_type": "code",
   "execution_count": 59,
   "id": "c9e4d01a",
   "metadata": {},
   "outputs": [
    {
     "name": "stdout",
     "output_type": "stream",
     "text": [
      "Sequential(\n",
      "  (0): Linear(in_features=1, out_features=1, bias=True)\n",
      ")\n"
     ]
    }
   ],
   "source": [
    "model = nn.Sequential(nn.Linear(1, 1))\n",
    "\n",
    "print(model)"
   ]
  },
  {
   "cell_type": "markdown",
   "id": "ed1b155e",
   "metadata": {},
   "source": [
    "（3）设置损失函数和优化器"
   ]
  },
  {
   "cell_type": "code",
   "execution_count": 60,
   "id": "f1c3b213",
   "metadata": {},
   "outputs": [],
   "source": [
    "criterion = nn.MSELoss()\n",
    "optimizer = optim.Adam(model.parameters(), lr=0.05)"
   ]
  },
  {
   "cell_type": "markdown",
   "id": "615fb55e",
   "metadata": {},
   "source": [
    "nn.MSELoss() 是 PyTorch 框架中的一种损失函数，用于衡量模型预测值与真实值之间的平均平方误差。MSE 代表均方误差（Mean Squared Error），是回归问题中常用的损失函数之一。\n",
    "\n",
    "使用场景:\n",
    "\n",
    "nn.MSELoss() 通常用于回归问题，例如房价预测、股票价格预测等。\n",
    "\n",
    "特点:\n",
    "\n",
    "敏感性：MSE 对预测误差的平方非常敏感，这意味着较大的误差会对损失函数产生更大的影响。\n",
    "\n",
    "非负性：MSE 总是非负的，这使得它在优化问题中易于处理。\n",
    "\n",
    "可导性：MSE 是可导的，这使得它适用于基于梯度的优化算法。"
   ]
  },
  {
   "cell_type": "markdown",
   "id": "09b9ad36",
   "metadata": {},
   "source": [
    "6.模型训练"
   ]
  },
  {
   "cell_type": "code",
   "execution_count": 61,
   "id": "8542bc13",
   "metadata": {},
   "outputs": [
    {
     "name": "stdout",
     "output_type": "stream",
     "text": [
      "Epoch [1000/6000], Loss: 0.23412\n",
      "Epoch [2000/6000], Loss: 0.16315\n",
      "Epoch [3000/6000], Loss: 0.14836\n",
      "Epoch [4000/6000], Loss: 0.14767\n",
      "Epoch [5000/6000], Loss: 0.14767\n",
      "Epoch [6000/6000], Loss: 0.14767\n"
     ]
    }
   ],
   "source": [
    "for epoch in range(num_epochs):\n",
    "    model.train()\n",
    "    \n",
    "    outputs = model(X)\n",
    "    loss = criterion(outputs, y)\n",
    "    optimizer.zero_grad()\n",
    "    loss.backward()\n",
    "    optimizer.step()\n",
    "\n",
    "    if (epoch+1) % 1000 == 0 or epoch == num_epochs - 1:\n",
    "        print(f'Epoch [{epoch+1}/{num_epochs}], Loss: {loss.item():.5f}')"
   ]
  },
  {
   "cell_type": "markdown",
   "id": "52951edf",
   "metadata": {},
   "source": [
    "7.模型测试"
   ]
  },
  {
   "cell_type": "markdown",
   "id": "a022d8ee",
   "metadata": {},
   "source": [
    "model[0].weight.data 返回权重参数的值。\n",
    "\n",
    "model[0].bias.data 返回偏置参数的值。\n",
    "\n",
    ".data属性用于访问参数的值。\n",
    "\n",
    "在PyTorch中，参数是一个特殊的对象，具有 .data、.grad 等属性。.data 包含了参数的当前值，而 .grad 包含了梯度（在反向传播后）。"
   ]
  },
  {
   "cell_type": "code",
   "execution_count": 62,
   "id": "cae49e3a",
   "metadata": {},
   "outputs": [
    {
     "name": "stdout",
     "output_type": "stream",
     "text": [
      "test_loss: 0.1477\n",
      "Sequential(\n",
      "  (0): Linear(in_features=1, out_features=1, bias=True)\n",
      ")\n",
      "weights: tensor([[7.9159]])\n",
      "bias: tensor([0.5546])\n"
     ]
    }
   ],
   "source": [
    "model.eval()\n",
    "\n",
    "with torch.no_grad():\n",
    "    y_pred = model(X)\n",
    "    test_loss = criterion(y_pred, y)\n",
    "    print(f'test_loss: {test_loss.item():.4f}')\n",
    "\n",
    "# 打印模型参数\n",
    "print(model)\n",
    "print(f'weights: {model[0].weight.data}')  # 返回权重参数的值\n",
    "print(f'bias: {model[0].bias.data}')  # 返回偏置参数的值"
   ]
  },
  {
   "cell_type": "markdown",
   "id": "b934a1a5",
   "metadata": {},
   "source": [
    "8.结果可视化"
   ]
  },
  {
   "cell_type": "code",
   "execution_count": 63,
   "id": "96bbfaf4",
   "metadata": {},
   "outputs": [
    {
     "data": {
      "image/png": "[encoded data removed]",
      "text/plain": [
       "<Figure size 640x480 with 1 Axes>"
      ]
     },
     "metadata": {},
     "output_type": "display_data"
    }
   ],
   "source": [
    "plt.scatter(X, y,  color='pink', marker='*', label='草莓')\n",
    "plt.plot(X, y_pred)\n",
    "plt.legend()\n",
    "plt.show()"
   ]
  },
  {
   "cell_type": "markdown",
   "id": "4f731172",
   "metadata": {},
   "source": [
    "9.模型推理"
   ]
  },
  {
   "cell_type": "code",
   "execution_count": 64,
   "id": "0552f8c9",
   "metadata": {},
   "outputs": [
    {
     "data": {
      "image/png": "[encoded data removed]",
      "text/plain": [
       "<Figure size 640x480 with 1 Axes>"
      ]
     },
     "metadata": {},
     "output_type": "display_data"
    }
   ],
   "source": [
    "x_test = torch.arange(0.5, 1.1, 0.05).view(-1, 1)\n",
    "\n",
    "model.eval()\n",
    "with torch.no_grad():\n",
    "    y_hat = model(x_test)\n",
    "    # print(f'y_pred: {y_hat}')\n",
    "\n",
    "plt.scatter(X, y,  color='r', marker='*', label='草莓')\n",
    "plt.plot(x_test, y_hat)  # x_test, y_hat都为张量\n",
    "plt.xlim(0.5, 1.1)\n",
    "plt.ylim(0, 10)\n",
    "plt.legend()\n",
    "plt.show()"
   ]
  },
  {
   "cell_type": "markdown",
   "id": "60fbe424",
   "metadata": {},
   "source": [
    "​\t线性回归是回归分析中最早经过严格研究并在实际应用中广泛使用的类型。它因其模型相对容易拟合，且估计的统计特性容易确定，而被广泛应用于经济学、心理学、医学、工程和物理学等领域。随着时间的发展，线性回归的概念和应用不断扩展，包括对非线性模型的最小二乘拟合，以及在商业和工业中的业务决策和流程优化。\n",
    "\n",
    "​\t线性回归作为一种基础的统计方法，在数据科学和机器学习领域扮演着重要角色。通过理解其原理、优化方法以及局限性，我们可以更有效地应用线性回归来解决实际问题，并根据需要选择合适的模型和算法进行数据分析。\n",
    "\n",
    "​\t尽管线性回归是一个强大的工具，但它也有其局限性：\n",
    "\n",
    "- 线性回归假设自变量和因变量之间存在线性关系，这在现实世界中并不总是成立。\n",
    "- 在多元线性回归中，自变量之间可能存在高度相关性，这会导致模型参数估计的不稳定性。\n",
    "\n",
    "​\t为了克服这些局限性，研究者们开发了多种改进方法，如岭回归（Ridge Regression）和套索回归（Lasso Regression），它们通过引入惩罚项来减少模型复杂度，防止过拟合。\n",
    "\n"
   ]
  },
  {
   "cell_type": "markdown",
   "id": "4b045579",
   "metadata": {},
   "source": [
    "***"
   ]
  },
  {
   "cell_type": "markdown",
   "id": "69bbd4b0",
   "metadata": {},
   "source": [
    "### 扩展阅读\n",
    "\n",
    "#### 卡尔·皮尔逊\n",
    "\n",
    "​\t英国数学家，生物统计学家，数理统计学的创立者，现代统计学先驱。他对生物统计学、气象学、社会达尔文主义理论和优生学做出了重大贡献。\n",
    "\n",
    "​\t1889年，高尔顿出版了著作《自然遗传》。书中概括了作者关于遗传的相关和回归概念以及技巧方面的工作，明确思考了它们在研究生命形式中的可用性和价值。皮尔逊对高尔顿的“相关”这概念十分着迷，认为这是一个比因果性更为广泛的范畴。皮尔逊立即决定全力为统计学这一新学科奠定基础，他在接着的15年内几乎是单枪匹马地奋战在这一前沿领域。\n",
    "\n",
    "​\t他讨论了概率理论和相关概念，并用掷硬币、抽纸牌和观察自然现象来证明它们。皮尔逊在高尔顿等人关于相关和回归统计概念和技巧的基础上，建立了后来所称的极大似然法。\n",
    "\n",
    "卡尔·皮尔逊的统计学贡献：\n",
    "\n",
    "（1）概率论与统计学的融合\n",
    "\n",
    "​\t皮尔逊在高尔顿的影响下，从十九世纪九十年代初开始进军生物统计学。他在先辈们通过赌博进行概率论研究的基础上，导入了许多新的概念，把生物统计方法提炼成为一般处理统计资料的通用方法，发展了统计方法论，把概率论与统计学两者熔为一炉。\n",
    "\n",
    "（2）分布曲线理论\n",
    "\n",
    "​\t在皮尔逊之前，人们普遍认为，几乎所有社会现象都是接近于正态分布的。如果所得到的统计资料呈非正态分布则往往怀疑统计资料不够或有偏差，而不重视非正态分布的研究，甚至对个别提出非正态分布理论的人加以压制。皮尔逊认为，正态分布只是一种分布形态，他在高尔登优生学统计方法的启示下，1894年发表了《关于不对称曲线的剖析》，在这篇论文中，提出了**标准差**及其符号**σ**。1895年发表了《同类资料的偏斜变异》等论文。在这些论文中，得到包括正态分布、矩形分布、J型分布、U型分布等13种曲线及其方程式。他的这一成果，打破了以往“唯正态”观念，推进了次数分布曲线理论的发展和应用，为大样本理论奠定了基础。\n",
    "\n",
    "（3）卡方（χ2）检验\n",
    "\n",
    "​\t皮尔逊认为，不管理论分布造得如何好，它与实际分布之间总存在着或多或少的差异。这些差异到底是由于观察次数不充分、随机误差太大引入的，还是由于所选的理论分布本身就与实际分布有实质性差异，还需要用一种方法来检验。\n",
    "\n",
    "​\t1900年，皮尔逊发表了一个著名的统计量，称之为卡方（χ2），用来检验实际值的分布数列与理论数列是否在合理范围内相符合，即用以测定观察值与期望值之间的差异显著性。卡方检验提出后得到了广泛的应用，在现代统计理论中占有重要地位。\n",
    "\n",
    "（4）发展了相关和回归理论\n",
    "\n",
    "​\t皮尔逊推广了高尔登的相关结论和方法，推导出人们称之为 “皮尔逊积动差”的公式。他提出了净相关、复相关、总相关、相关比等概念，发明了计算复相关和净相关的方法及相关系数的公式。"
   ]
  }
 ],
 "metadata": {
  "kernelspec": {
   "display_name": "d2l",
   "language": "python",
   "name": "python3"
  },
  "language_info": {
   "codemirror_mode": {
    "name": "ipython",
    "version": 3
   },
   "file_extension": ".py",
   "mimetype": "text/x-python",
   "name": "python",
   "nbconvert_exporter": "python",
   "pygments_lexer": "ipython3",
   "version": "3.10.14"
  }
 },
 "nbformat": 4,
 "nbformat_minor": 5
}
